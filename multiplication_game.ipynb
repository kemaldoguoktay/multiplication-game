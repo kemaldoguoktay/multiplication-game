{
  "nbformat": 4,
  "nbformat_minor": 0,
  "metadata": {
    "colab": {
      "provenance": [],
      "authorship_tag": "ABX9TyOx6RaCCfd0cqKo+1g5alc1",
      "include_colab_link": true
    },
    "kernelspec": {
      "name": "python3",
      "display_name": "Python 3"
    },
    "language_info": {
      "name": "python"
    }
  },
  "cells": [
    {
      "cell_type": "markdown",
      "metadata": {
        "id": "view-in-github",
        "colab_type": "text"
      },
      "source": [
        "<a href=\"https://colab.research.google.com/github/kemaldoguoktay/multiplication-game/blob/main/multiplication_game.ipynb\" target=\"_parent\"><img src=\"https://colab.research.google.com/assets/colab-badge.svg\" alt=\"Open In Colab\"/></a>"
      ]
    },
    {
      "cell_type": "markdown",
      "source": [
        "### *multiplication game*"
      ],
      "metadata": {
        "id": "6yjzYYz35W7e"
      }
    },
    {
      "cell_type": "code",
      "execution_count": null,
      "metadata": {
        "id": "P8n4NDCT5UG_"
      },
      "outputs": [],
      "source": [
        "import random\n",
        "\n",
        "print(\"\\t\\t\\tHoşgeldiniz\")\n",
        "print(\"\\t\\tHangi Seviyeden Başlamak İstersiniz?\\nKolay\\nOrta\\nZor\")\n",
        "secenek = str(input())\n",
        "a = True\n",
        "\n",
        "while a:\n",
        "  def hesap():\n",
        "    global a\n",
        "    t = \"Cevabınız Doğru\\nSıradaki Soru:\"\n",
        "    b = random.randint(0,10)\n",
        "    c = random.randint(1,10)\n",
        "    d = random.randint(10,20)\n",
        "    e = random.randint(20,30)\n",
        "    if secenek.upper() == \"KOLAY\":\n",
        "      print(f\"{b} x {c} kaç eder?\")\n",
        "      cevap = int(input())\n",
        "      if cevap == b*c:\n",
        "        print(\"Cevabınız Doğru\\nSıradaki Soru:\")\n",
        "      else:\n",
        "        print(f\"Cevap Yanlış\\nDoğru Cevap {b*c} Olacaktı.\")\n",
        "        a = False\n",
        "    elif secenek.upper() == \"ORTA\":\n",
        "      print(f\"{c} x {d} kaç eder?\")\n",
        "      cevap = int(input())\n",
        "      if cevap == c*d:\n",
        "        print(t)\n",
        "      else:\n",
        "        print(f\"Cevap Yanlış\\nDoğru Cevap {c*d} Olacaktı.\")\n",
        "        a = False\n",
        "    else:\n",
        "      print(f\"{d} x {e} kaç eder?\")\n",
        "      cevap = int(input())\n",
        "      if cevap == d*e:\n",
        "        print(t)\n",
        "      else:\n",
        "        print(f\"Cevap Yanlış\\nDoğru Cevap {d*e} Olacaktı.\")\n",
        "        a = False\n",
        "  hesap()"
      ]
    }
  ]
}